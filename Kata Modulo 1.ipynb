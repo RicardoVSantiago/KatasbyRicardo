{
 "cells": [
  {
   "cell_type": "markdown",
   "metadata": {},
   "source": [
    "# Primer Programa (Fecha)"
   ]
  },
  {
   "cell_type": "code",
   "execution_count": 55,
   "metadata": {},
   "outputs": [
    {
     "name": "stdout",
     "output_type": "stream",
     "text": [
      "La fecha del dia de hoy es : 2022-02-13\n"
     ]
    }
   ],
   "source": [
    "from datetime import date\n",
    "\n",
    "print(\"La fecha del dia de hoy es : \" + str(date.today()))"
   ]
  },
  {
   "cell_type": "markdown",
   "metadata": {},
   "source": [
    "## Calculadora conversion de Parsec a años luz \n"
   ]
  },
  {
   "cell_type": "code",
   "execution_count": 96,
   "metadata": {},
   "outputs": [
    {
     "name": "stdout",
     "output_type": "stream",
     "text": [
      "Selecciona 1 para calcular Persec->año luz\n",
      "Selecciona otro numero Para calcular Año Luz->Parsec\n",
      "\n",
      "Calculador Persec->año luz \n",
      "4 parsec son  13.04624 Añoz Luz\n"
     ]
    }
   ],
   "source": [
    "print(\"Selecciona 1 para calcular Persec->año luz\")\n",
    "print(\"Selecciona otro numero Para calcular Año Luz->Parsec\" '\\n' )\n",
    "x=int(input())\n",
    "if x==1:\n",
    "    print(\"Calculador Persec->año luz \")\n",
    "    parsec=int(input(\"Seleccione los parsec a convertir\"))\n",
    "    Año_Luz =parsec*3.26156\n",
    "    print(str(parsec) + \" parsec son  \" + str(Año_Luz) + \" Añoz Luz\")\n",
    "else:\n",
    "    print(\"Calculador Año Luz->Parsec \")\n",
    "    Año_Luz=int(input(\"Seleccione los Años luz a convertir\"))\n",
    "    parsec = (Año_Luz * 0.306601)\n",
    "    print( str(Año_Luz)  + \" Años luz son  \" + str(parsec) + \" Parsec\")"
   ]
  }
 ],
 "metadata": {
  "interpreter": {
   "hash": "a278c993f2834879b99393805967e02644755ae666e094535989b53b0525c545"
  },
  "kernelspec": {
   "display_name": "Python 3.10.2 64-bit (windows store)",
   "language": "python",
   "name": "python3"
  },
  "language_info": {
   "codemirror_mode": {
    "name": "ipython",
    "version": 3
   },
   "file_extension": ".py",
   "mimetype": "text/x-python",
   "name": "python",
   "nbconvert_exporter": "python",
   "pygments_lexer": "ipython3",
   "version": "3.10.2"
  },
  "orig_nbformat": 4
 },
 "nbformat": 4,
 "nbformat_minor": 2
}
